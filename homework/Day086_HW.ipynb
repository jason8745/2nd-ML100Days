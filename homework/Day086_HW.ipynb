{
 "cells": [
  {
   "cell_type": "markdown",
   "metadata": {},
   "source": [
    "## Work\n",
    "1. 試比較 save_best_only 與否的差異\n",
    "2. 請僅存入將 save_weights_only 設定為 True, 並嘗試 reset ipynb 並將模型與權重重新建回並預測 x_test"
   ]
  },
  {
   "cell_type": "code",
   "execution_count": 1,
   "metadata": {},
   "outputs": [
    {
     "name": "stderr",
     "output_type": "stream",
     "text": [
      "C:\\Users\\a0970\\Anaconda3\\lib\\site-packages\\h5py\\__init__.py:36: FutureWarning: Conversion of the second argument of issubdtype from `float` to `np.floating` is deprecated. In future, it will be treated as `np.float64 == np.dtype(float).type`.\n",
      "  from ._conv import register_converters as _register_converters\n",
      "Using TensorFlow backend.\n"
     ]
    }
   ],
   "source": [
    "import os\n",
    "import keras\n",
    "\n",
    "# Disable GPU\n",
    "os.environ[\"CUDA_VISIBLE_DEVICES\"] = \"\""
   ]
  },
  {
   "cell_type": "code",
   "execution_count": 2,
   "metadata": {},
   "outputs": [],
   "source": [
    "train, test = keras.datasets.cifar10.load_data()"
   ]
  },
  {
   "cell_type": "code",
   "execution_count": 3,
   "metadata": {},
   "outputs": [],
   "source": [
    "## 資料前處理\n",
    "def preproc_x(x, flatten=True):\n",
    "    x = x / 255.\n",
    "    if flatten:\n",
    "        x = x.reshape((len(x), -1))\n",
    "    return x\n",
    "\n",
    "def preproc_y(y, num_classes=10):\n",
    "    if y.shape[-1] == 1:\n",
    "        y = keras.utils.to_categorical(y, num_classes)\n",
    "    return y    "
   ]
  },
  {
   "cell_type": "code",
   "execution_count": 4,
   "metadata": {},
   "outputs": [],
   "source": [
    "x_train, y_train = train\n",
    "x_test, y_test = test\n",
    "\n",
    "# Preproc the inputs\n",
    "x_train = preproc_x(x_train)\n",
    "x_test = preproc_x(x_test)\n",
    "\n",
    "# Preprc the outputs\n",
    "y_train = preproc_y(y_train)\n",
    "y_test = preproc_y(y_test)"
   ]
  },
  {
   "cell_type": "code",
   "execution_count": 5,
   "metadata": {},
   "outputs": [],
   "source": [
    "from keras.layers import BatchNormalization\n",
    "\n",
    "\"\"\"\n",
    "建立神經網路，並加入 BN layer\n",
    "\"\"\"\n",
    "def build_mlp(input_shape, output_units=10, num_neurons=[512, 256, 128]):\n",
    "    input_layer = keras.layers.Input(input_shape)\n",
    "    \n",
    "    for i, n_units in enumerate(num_neurons):\n",
    "        if i == 0:\n",
    "            x = keras.layers.Dense(units=n_units, \n",
    "                                   activation=\"relu\", \n",
    "                                   name=\"hidden_layer\"+str(i+1))(input_layer)\n",
    "            x = BatchNormalization()(x)\n",
    "        else:\n",
    "            x = keras.layers.Dense(units=n_units, \n",
    "                                   activation=\"relu\", \n",
    "                                   name=\"hidden_layer\"+str(i+1))(x)\n",
    "            x = BatchNormalization()(x)\n",
    "    \n",
    "    out = keras.layers.Dense(units=output_units, activation=\"softmax\", name=\"output\")(x)\n",
    "    \n",
    "    model = keras.models.Model(inputs=[input_layer], outputs=[out])\n",
    "    return model"
   ]
  },
  {
   "cell_type": "code",
   "execution_count": 6,
   "metadata": {},
   "outputs": [],
   "source": [
    "## 超參數設定\n",
    "LEARNING_RATE = 1e-3\n",
    "EPOCHS = 50\n",
    "BATCH_SIZE = 1024\n",
    "MOMENTUM = 0.95"
   ]
  },
  {
   "cell_type": "code",
   "execution_count": 7,
   "metadata": {},
   "outputs": [
    {
     "name": "stdout",
     "output_type": "stream",
     "text": [
      "_________________________________________________________________\n",
      "Layer (type)                 Output Shape              Param #   \n",
      "=================================================================\n",
      "input_1 (InputLayer)         (None, 3072)              0         \n",
      "_________________________________________________________________\n",
      "hidden_layer1 (Dense)        (None, 512)               1573376   \n",
      "_________________________________________________________________\n",
      "batch_normalization_1 (Batch (None, 512)               2048      \n",
      "_________________________________________________________________\n",
      "hidden_layer2 (Dense)        (None, 256)               131328    \n",
      "_________________________________________________________________\n",
      "batch_normalization_2 (Batch (None, 256)               1024      \n",
      "_________________________________________________________________\n",
      "hidden_layer3 (Dense)        (None, 128)               32896     \n",
      "_________________________________________________________________\n",
      "batch_normalization_3 (Batch (None, 128)               512       \n",
      "_________________________________________________________________\n",
      "output (Dense)               (None, 10)                1290      \n",
      "=================================================================\n",
      "Total params: 1,742,474\n",
      "Trainable params: 1,740,682\n",
      "Non-trainable params: 1,792\n",
      "_________________________________________________________________\n",
      "Train on 50000 samples, validate on 10000 samples\n",
      "Epoch 1/50\n",
      "50000/50000 [==============================] - 8s 156us/step - loss: 2.1933 - acc: 0.2723 - val_loss: 2.1600 - val_acc: 0.3107\n",
      "Epoch 2/50\n",
      "50000/50000 [==============================] - 7s 139us/step - loss: 1.7421 - acc: 0.3916 - val_loss: 1.8275 - val_acc: 0.3833\n",
      "Epoch 3/50\n",
      "50000/50000 [==============================] - 7s 139us/step - loss: 1.6173 - acc: 0.4324 - val_loss: 1.6872 - val_acc: 0.4214\n",
      "Epoch 4/50\n",
      "50000/50000 [==============================] - 7s 133us/step - loss: 1.5445 - acc: 0.4580 - val_loss: 1.6576 - val_acc: 0.4279\n",
      "Epoch 5/50\n",
      "50000/50000 [==============================] - 7s 134us/step - loss: 1.4915 - acc: 0.4770 - val_loss: 1.6019 - val_acc: 0.4383\n",
      "Epoch 6/50\n",
      "50000/50000 [==============================] - 7s 134us/step - loss: 1.4446 - acc: 0.4954 - val_loss: 1.5846 - val_acc: 0.4457\n",
      "Epoch 7/50\n",
      "50000/50000 [==============================] - 7s 135us/step - loss: 1.4064 - acc: 0.5076 - val_loss: 1.5449 - val_acc: 0.4576\n",
      "Epoch 8/50\n",
      "50000/50000 [==============================] - 7s 134us/step - loss: 1.3732 - acc: 0.5213 - val_loss: 1.5219 - val_acc: 0.4633\n",
      "Epoch 9/50\n",
      "50000/50000 [==============================] - 7s 135us/step - loss: 1.3406 - acc: 0.5333 - val_loss: 1.5065 - val_acc: 0.4720\n",
      "Epoch 10/50\n",
      "50000/50000 [==============================] - 9s 180us/step - loss: 1.3107 - acc: 0.5453 - val_loss: 1.4979 - val_acc: 0.4737\n",
      "Epoch 11/50\n",
      "50000/50000 [==============================] - 11s 216us/step - loss: 1.2820 - acc: 0.5548 - val_loss: 1.4834 - val_acc: 0.4806\n",
      "Epoch 12/50\n",
      "50000/50000 [==============================] - 11s 218us/step - loss: 1.2566 - acc: 0.5668 - val_loss: 1.4709 - val_acc: 0.4817\n",
      "Epoch 13/50\n",
      "50000/50000 [==============================] - 11s 216us/step - loss: 1.2315 - acc: 0.5754 - val_loss: 1.4718 - val_acc: 0.4852\n",
      "Epoch 14/50\n",
      "50000/50000 [==============================] - 11s 218us/step - loss: 1.2054 - acc: 0.5837 - val_loss: 1.4674 - val_acc: 0.4813\n",
      "Epoch 15/50\n",
      "50000/50000 [==============================] - 11s 220us/step - loss: 1.1826 - acc: 0.5923 - val_loss: 1.4583 - val_acc: 0.4841\n",
      "Epoch 16/50\n",
      "50000/50000 [==============================] - 11s 218us/step - loss: 1.1600 - acc: 0.6023 - val_loss: 1.4578 - val_acc: 0.4875\n",
      "Epoch 17/50\n",
      "50000/50000 [==============================] - 11s 218us/step - loss: 1.1364 - acc: 0.6108 - val_loss: 1.4557 - val_acc: 0.4876\n",
      "Epoch 18/50\n",
      "50000/50000 [==============================] - 11s 221us/step - loss: 1.1150 - acc: 0.6193 - val_loss: 1.4462 - val_acc: 0.4920\n",
      "Epoch 19/50\n",
      "50000/50000 [==============================] - 11s 222us/step - loss: 1.0917 - acc: 0.6268 - val_loss: 1.4446 - val_acc: 0.4947\n",
      "Epoch 20/50\n",
      "50000/50000 [==============================] - 11s 220us/step - loss: 1.0713 - acc: 0.6352 - val_loss: 1.4510 - val_acc: 0.4913\n",
      "Epoch 21/50\n",
      "50000/50000 [==============================] - 11s 219us/step - loss: 1.0502 - acc: 0.6412 - val_loss: 1.4553 - val_acc: 0.4873\n",
      "Epoch 22/50\n",
      "50000/50000 [==============================] - 11s 222us/step - loss: 1.0289 - acc: 0.6502 - val_loss: 1.4458 - val_acc: 0.4920\n",
      "Epoch 23/50\n",
      "50000/50000 [==============================] - 11s 225us/step - loss: 1.0095 - acc: 0.6600 - val_loss: 1.4624 - val_acc: 0.4908\n",
      "Epoch 24/50\n",
      "50000/50000 [==============================] - 12s 237us/step - loss: 0.9878 - acc: 0.6675 - val_loss: 1.4468 - val_acc: 0.4926\n",
      "Epoch 25/50\n",
      "50000/50000 [==============================] - 13s 263us/step - loss: 0.9676 - acc: 0.6737 - val_loss: 1.4477 - val_acc: 0.4893\n",
      "Epoch 26/50\n",
      "50000/50000 [==============================] - 14s 270us/step - loss: 0.9470 - acc: 0.6851 - val_loss: 1.4572 - val_acc: 0.4899\n",
      "Epoch 27/50\n",
      "50000/50000 [==============================] - 12s 231us/step - loss: 0.9280 - acc: 0.6907 - val_loss: 1.4576 - val_acc: 0.4918\n",
      "Epoch 28/50\n",
      "50000/50000 [==============================] - 8s 168us/step - loss: 0.9066 - acc: 0.7001 - val_loss: 1.4613 - val_acc: 0.4918\n",
      "Epoch 29/50\n",
      "50000/50000 [==============================] - 8s 169us/step - loss: 0.8874 - acc: 0.7057 - val_loss: 1.4709 - val_acc: 0.4950\n",
      "Epoch 30/50\n",
      "50000/50000 [==============================] - 9s 171us/step - loss: 0.8675 - acc: 0.7146 - val_loss: 1.4691 - val_acc: 0.4954\n",
      "Epoch 31/50\n",
      "50000/50000 [==============================] - 8s 162us/step - loss: 0.8487 - acc: 0.7217 - val_loss: 1.4771 - val_acc: 0.4914\n",
      "Epoch 32/50\n",
      "50000/50000 [==============================] - 10s 210us/step - loss: 0.8283 - acc: 0.7298 - val_loss: 1.4845 - val_acc: 0.4935\n",
      "Epoch 33/50\n",
      "50000/50000 [==============================] - 12s 241us/step - loss: 0.8099 - acc: 0.7368 - val_loss: 1.4899 - val_acc: 0.4915\n",
      "Epoch 34/50\n",
      "50000/50000 [==============================] - 12s 230us/step - loss: 0.7905 - acc: 0.7455 - val_loss: 1.4901 - val_acc: 0.4967\n",
      "Epoch 35/50\n",
      "50000/50000 [==============================] - 11s 220us/step - loss: 0.7696 - acc: 0.7531 - val_loss: 1.4929 - val_acc: 0.4912\n",
      "Epoch 36/50\n",
      "50000/50000 [==============================] - 11s 227us/step - loss: 0.7513 - acc: 0.7597 - val_loss: 1.5019 - val_acc: 0.4924\n",
      "Epoch 37/50\n",
      "50000/50000 [==============================] - 12s 240us/step - loss: 0.7320 - acc: 0.7686 - val_loss: 1.5158 - val_acc: 0.4957\n",
      "Epoch 38/50\n",
      "50000/50000 [==============================] - 13s 254us/step - loss: 0.7133 - acc: 0.7755 - val_loss: 1.5229 - val_acc: 0.4919\n",
      "Epoch 39/50\n",
      "50000/50000 [==============================] - 14s 277us/step - loss: 0.6946 - acc: 0.7834 - val_loss: 1.5563 - val_acc: 0.4860\n",
      "Epoch 40/50\n",
      "50000/50000 [==============================] - 14s 276us/step - loss: 0.6781 - acc: 0.7890 - val_loss: 1.5394 - val_acc: 0.4893\n",
      "Epoch 41/50\n",
      "50000/50000 [==============================] - 14s 279us/step - loss: 0.6608 - acc: 0.7954 - val_loss: 1.5501 - val_acc: 0.4916\n",
      "Epoch 42/50\n",
      "50000/50000 [==============================] - 15s 296us/step - loss: 0.6408 - acc: 0.8042 - val_loss: 1.5465 - val_acc: 0.4940\n",
      "Epoch 43/50\n",
      "50000/50000 [==============================] - 14s 271us/step - loss: 0.6233 - acc: 0.8090 - val_loss: 1.5571 - val_acc: 0.4896\n",
      "Epoch 44/50\n",
      "50000/50000 [==============================] - 9s 171us/step - loss: 0.6064 - acc: 0.8169 - val_loss: 1.5870 - val_acc: 0.4865\n",
      "Epoch 45/50\n",
      "50000/50000 [==============================] - 8s 168us/step - loss: 0.5911 - acc: 0.8220 - val_loss: 1.5841 - val_acc: 0.4889\n",
      "Epoch 46/50\n",
      "50000/50000 [==============================] - 8s 169us/step - loss: 0.5718 - acc: 0.8303 - val_loss: 1.5918 - val_acc: 0.4890\n",
      "Epoch 47/50\n",
      "50000/50000 [==============================] - 9s 171us/step - loss: 0.5537 - acc: 0.8391 - val_loss: 1.6036 - val_acc: 0.4949\n",
      "Epoch 48/50\n",
      "50000/50000 [==============================] - 8s 168us/step - loss: 0.5386 - acc: 0.8437 - val_loss: 1.6201 - val_acc: 0.4928\n",
      "Epoch 49/50\n"
     ]
    },
    {
     "name": "stdout",
     "output_type": "stream",
     "text": [
      "50000/50000 [==============================] - 12s 240us/step - loss: 0.5210 - acc: 0.8510 - val_loss: 1.6328 - val_acc: 0.4945\n",
      "Epoch 50/50\n",
      "50000/50000 [==============================] - 12s 249us/step - loss: 0.5036 - acc: 0.8576 - val_loss: 1.6666 - val_acc: 0.4876\n",
      "10000/10000 [==============================] - 2s 217us/step\n"
     ]
    }
   ],
   "source": [
    "# 載入 Callbacks\n",
    "\"\"\"\n",
    "# 載入 Callbacks, 並將監控目標設為 validation loss, 且只存最佳參數時的模型\n",
    "\"\"\"\n",
    "from keras.callbacks import ModelCheckpoint\n",
    "\n",
    "model_ckpt = ModelCheckpoint(filepath=\"./tmp0725.h5\", \n",
    "                             monitor=\"val_loss\", \n",
    "                             save_best_only=False)\n",
    "results = {}\n",
    "\"\"\"Code Here\n",
    "撰寫你的訓練流程並將結果用 dictionary 紀錄\n",
    "\"\"\"\n",
    "model = build_mlp(input_shape=x_train.shape[1:])\n",
    "model.summary()\n",
    "optimizer = keras.optimizers.SGD(lr=LEARNING_RATE, nesterov=True, momentum=MOMENTUM)\n",
    "model.compile(loss=\"categorical_crossentropy\", metrics=[\"accuracy\"], optimizer=optimizer)\n",
    "\n",
    "model.fit(x_train, y_train, \n",
    "          epochs=EPOCHS, \n",
    "          batch_size=BATCH_SIZE, \n",
    "          validation_data=(x_test, y_test), \n",
    "          shuffle=True,\n",
    "          callbacks=[model_ckpt]\n",
    "         )\n",
    "\n",
    "# Collect results\n",
    "train_loss = model.history.history[\"loss\"]\n",
    "valid_loss = model.history.history[\"val_loss\"]\n",
    "train_acc = model.history.history[\"acc\"]\n",
    "valid_acc = model.history.history[\"val_acc\"]\n",
    "\n",
    "# Load back\n",
    "model = keras.models.load_model(\"./tmp0725.h5\")\n",
    "loss_loadback, acc_loadback = model.evaluate(x_test, y_test)"
   ]
  },
  {
   "cell_type": "code",
   "execution_count": 9,
   "metadata": {
    "scrolled": true
   },
   "outputs": [
    {
     "data": {
      "image/png": "[encoded data removed]",
      "text/plain": [
       "<Figure size 432x288 with 1 Axes>"
      ]
     },
     "metadata": {},
     "output_type": "display_data"
    },
    {
     "data": {
      "image/png": "[encoded data removed]",
      "text/plain": [
       "<Figure size 432x288 with 1 Axes>"
      ]
     },
     "metadata": {},
     "output_type": "display_data"
    }
   ],
   "source": [
    "import matplotlib.pyplot as plt\n",
    "%matplotlib inline\n",
    "\n",
    "plt.plot(range(len(train_loss)), train_loss, label=\"train loss\")\n",
    "plt.plot(range(len(valid_loss)), valid_loss, label=\"valid loss\")\n",
    "plt.hlines(y=loss_loadback, xmin=0, xmax=len(train_loss), colors='r', linestyles='--')\n",
    "plt.legend()\n",
    "plt.title(\"Loss\")\n",
    "plt.show()\n",
    "\n",
    "plt.plot(range(len(train_acc)), train_acc, label=\"train accuracy\")\n",
    "plt.plot(range(len(valid_acc)), valid_acc, label=\"valid accuracy\")\n",
    "plt.hlines(y=acc_loadback, xmin=0, xmax=len(train_loss), colors='r', linestyles='--')\n",
    "plt.legend()\n",
    "plt.title(\"Accuracy\")\n",
    "plt.show()"
   ]
  },
  {
   "cell_type": "code",
   "execution_count": null,
   "metadata": {},
   "outputs": [],
   "source": []
  }
 ],
 "metadata": {
  "kernelspec": {
   "display_name": "Python 3",
   "language": "python",
   "name": "python3"
  },
  "language_info": {
   "codemirror_mode": {
    "name": "ipython",
    "version": 3
   },
   "file_extension": ".py",
   "mimetype": "text/x-python",
   "name": "python",
   "nbconvert_exporter": "python",
   "pygments_lexer": "ipython3",
   "version": "3.6.5"
  }
 },
 "nbformat": 4,
 "nbformat_minor": 2
}
