{
 "cells": [
  {
   "cell_type": "markdown",
   "metadata": {},
   "source": [
    "## Work\n",
    "1. 請嘗試將 preproc_x 替換成以每筆資料的 min/max 進行標準化至 -1 ~ 1 間，再進行訓練\n",
    "2. 請嘗試將 mlp 疊更深 (e.g 5~10 層)，進行訓練後觀察 learning curve 的走勢\n",
    "3. (optional) 請改用 GPU 進行訓練 (如果你有 GPU 的話)，比較使用 CPU 與 GPU 的訓練速度"
   ]
  },
  {
   "cell_type": "code",
   "execution_count": 3,
   "metadata": {},
   "outputs": [
    {
     "data": {
      "text/plain": [
       "'\\nYour code here (optional)\\n確認硬體資源\\n'"
      ]
     },
     "execution_count": 3,
     "metadata": {},
     "output_type": "execute_result"
    }
   ],
   "source": [
    "## \n",
    "\"\"\"\n",
    "Your code here (optional)\n",
    "確認硬體資源\n",
    "\"\"\"\n"
   ]
  },
  {
   "cell_type": "code",
   "execution_count": 4,
   "metadata": {},
   "outputs": [
    {
     "name": "stderr",
     "output_type": "stream",
     "text": [
      "C:\\Users\\a0970\\Anaconda3\\lib\\site-packages\\h5py\\__init__.py:36: FutureWarning: Conversion of the second argument of issubdtype from `float` to `np.floating` is deprecated. In future, it will be treated as `np.float64 == np.dtype(float).type`.\n",
      "  from ._conv import register_converters as _register_converters\n",
      "Using TensorFlow backend.\n"
     ]
    }
   ],
   "source": [
    "import os\n",
    "import keras\n",
    "\n",
    "# 請嘗試設定 GPU：os.environ\n",
    "os.environ[\"CUDA_VISIBLE_DEVICES\"] = \"\""
   ]
  },
  {
   "cell_type": "code",
   "execution_count": 5,
   "metadata": {},
   "outputs": [],
   "source": [
    "train, test = keras.datasets.cifar10.load_data()"
   ]
  },
  {
   "cell_type": "code",
   "execution_count": 6,
   "metadata": {},
   "outputs": [],
   "source": [
    "## 資料前處理\n",
    "def preproc_x(x, flatten=True):\n",
    "    x = x / 255.\n",
    "    if flatten:\n",
    "        x = x.reshape((len(x), -1))\n",
    "    return x\n",
    "\n",
    "def preproc_y(y, num_classes=10):\n",
    "    if y.shape[-1] == 1:\n",
    "        y = keras.utils.to_categorical(y, num_classes)\n",
    "    return y "
   ]
  },
  {
   "cell_type": "code",
   "execution_count": 7,
   "metadata": {},
   "outputs": [],
   "source": [
    "x_train, y_train = train\n",
    "x_test, y_test = test\n",
    "\n",
    "# Preproc the inputs\n",
    "x_train = preproc_x(x_train)\n",
    "x_test = preproc_x(x_test)\n",
    "\n",
    "# Preprc the outputs\n",
    "y_train = preproc_y(y_train)\n",
    "y_test = preproc_y(y_test)"
   ]
  },
  {
   "cell_type": "code",
   "execution_count": null,
   "metadata": {},
   "outputs": [],
   "source": []
  },
  {
   "cell_type": "code",
   "execution_count": 10,
   "metadata": {},
   "outputs": [],
   "source": [
    "def build_mlp(input_shape, output_units=10, num_neurons=[512, 256, 128]):\n",
    "    input_layer = keras.layers.Input(input_shape)\n",
    "    \n",
    "    for i, n_units in enumerate(num_neurons):\n",
    "        if i == 0:\n",
    "            x = keras.layers.Dense(units=n_units, activation=\"relu\", name=\"hidden_layer\"+str(i+1))(input_layer)\n",
    "        else:\n",
    "            x = keras.layers.Dense(units=n_units, activation=\"relu\", name=\"hidden_layer\"+str(i+1))(x)\n",
    "    \n",
    "    out = keras.layers.Dense(units=output_units, activation=\"softmax\", name=\"output\")(x)\n",
    "    \n",
    "    model = keras.models.Model(inputs=[input_layer], outputs=[out])\n",
    "    return model\n"
   ]
  },
  {
   "cell_type": "code",
   "execution_count": 11,
   "metadata": {},
   "outputs": [
    {
     "name": "stdout",
     "output_type": "stream",
     "text": [
      "_________________________________________________________________\n",
      "Layer (type)                 Output Shape              Param #   \n",
      "=================================================================\n",
      "input_1 (InputLayer)         (None, 3072)              0         \n",
      "_________________________________________________________________\n",
      "hidden_layer1 (Dense)        (None, 512)               1573376   \n",
      "_________________________________________________________________\n",
      "hidden_layer2 (Dense)        (None, 256)               131328    \n",
      "_________________________________________________________________\n",
      "hidden_layer3 (Dense)        (None, 128)               32896     \n",
      "_________________________________________________________________\n",
      "output (Dense)               (None, 10)                1290      \n",
      "=================================================================\n",
      "Total params: 1,738,890\n",
      "Trainable params: 1,738,890\n",
      "Non-trainable params: 0\n",
      "_________________________________________________________________\n"
     ]
    }
   ],
   "source": [
    "model = build_mlp(input_shape=x_train.shape[1:])\n",
    "model.summary()"
   ]
  },
  {
   "cell_type": "code",
   "execution_count": 12,
   "metadata": {},
   "outputs": [],
   "source": [
    "## 超參數設定\n",
    "LEARNING_RATE = 0.001\n",
    "EPOCHS = 20\n",
    "BATCH_SIZE = 256"
   ]
  },
  {
   "cell_type": "code",
   "execution_count": 13,
   "metadata": {},
   "outputs": [],
   "source": [
    "optimizer = keras.optimizers.Adam(lr=LEARNING_RATE)\n",
    "model.compile(loss=\"categorical_crossentropy\", metrics=[\"accuracy\"], optimizer=optimizer)"
   ]
  },
  {
   "cell_type": "code",
   "execution_count": 14,
   "metadata": {},
   "outputs": [
    {
     "name": "stdout",
     "output_type": "stream",
     "text": [
      "Train on 50000 samples, validate on 10000 samples\n",
      "Epoch 1/20\n",
      "50000/50000 [==============================] - 10s 192us/step - loss: 1.9549 - acc: 0.2972 - val_loss: 1.7864 - val_acc: 0.3565\n",
      "Epoch 2/20\n",
      "50000/50000 [==============================] - 9s 184us/step - loss: 1.7164 - acc: 0.3847 - val_loss: 1.6539 - val_acc: 0.4051\n",
      "Epoch 3/20\n",
      "50000/50000 [==============================] - 9s 185us/step - loss: 1.6175 - acc: 0.4215 - val_loss: 1.5806 - val_acc: 0.4476\n",
      "Epoch 4/20\n",
      "50000/50000 [==============================] - 9s 183us/step - loss: 1.5561 - acc: 0.4461 - val_loss: 1.5290 - val_acc: 0.4555\n",
      "Epoch 5/20\n",
      "50000/50000 [==============================] - 9s 183us/step - loss: 1.5173 - acc: 0.4575 - val_loss: 1.5460 - val_acc: 0.4437\n",
      "Epoch 6/20\n",
      "50000/50000 [==============================] - 14s 289us/step - loss: 1.4802 - acc: 0.4723 - val_loss: 1.5397 - val_acc: 0.4460\n",
      "Epoch 7/20\n",
      "50000/50000 [==============================] - 15s 309us/step - loss: 1.4414 - acc: 0.4861 - val_loss: 1.4532 - val_acc: 0.4880\n",
      "Epoch 8/20\n",
      "50000/50000 [==============================] - 15s 303us/step - loss: 1.4153 - acc: 0.4956 - val_loss: 1.4993 - val_acc: 0.4710\n",
      "Epoch 9/20\n",
      "50000/50000 [==============================] - 15s 300us/step - loss: 1.3842 - acc: 0.5059 - val_loss: 1.4357 - val_acc: 0.4953\n",
      "Epoch 10/20\n",
      "50000/50000 [==============================] - 15s 303us/step - loss: 1.3555 - acc: 0.5170 - val_loss: 1.4298 - val_acc: 0.4890\n",
      "Epoch 11/20\n",
      "50000/50000 [==============================] - 15s 307us/step - loss: 1.3347 - acc: 0.5231 - val_loss: 1.4144 - val_acc: 0.5001\n",
      "Epoch 12/20\n",
      "50000/50000 [==============================] - 15s 305us/step - loss: 1.3210 - acc: 0.5288 - val_loss: 1.4057 - val_acc: 0.5031\n",
      "Epoch 13/20\n",
      "50000/50000 [==============================] - 16s 310us/step - loss: 1.2809 - acc: 0.5424 - val_loss: 1.3986 - val_acc: 0.5066\n",
      "Epoch 14/20\n",
      "50000/50000 [==============================] - 15s 309us/step - loss: 1.2679 - acc: 0.5482 - val_loss: 1.3721 - val_acc: 0.5103\n",
      "Epoch 15/20\n",
      "50000/50000 [==============================] - 11s 228us/step - loss: 1.2485 - acc: 0.5556 - val_loss: 1.4013 - val_acc: 0.5065\n",
      "Epoch 16/20\n",
      "50000/50000 [==============================] - 12s 232us/step - loss: 1.2181 - acc: 0.5665 - val_loss: 1.3500 - val_acc: 0.5266\n",
      "Epoch 17/20\n",
      "50000/50000 [==============================] - 13s 253us/step - loss: 1.1974 - acc: 0.5737 - val_loss: 1.3776 - val_acc: 0.5213\n",
      "Epoch 18/20\n",
      "50000/50000 [==============================] - 12s 242us/step - loss: 1.1751 - acc: 0.5807 - val_loss: 1.3989 - val_acc: 0.5059\n",
      "Epoch 19/20\n",
      "50000/50000 [==============================] - 12s 240us/step - loss: 1.1664 - acc: 0.5848 - val_loss: 1.3786 - val_acc: 0.5179\n",
      "Epoch 20/20\n",
      "50000/50000 [==============================] - 12s 239us/step - loss: 1.1427 - acc: 0.5933 - val_loss: 1.3760 - val_acc: 0.5182\n"
     ]
    },
    {
     "data": {
      "text/plain": [
       "<keras.callbacks.History at 0x25bba5b9e48>"
      ]
     },
     "execution_count": 14,
     "metadata": {},
     "output_type": "execute_result"
    }
   ],
   "source": [
    "model.fit(x_train, y_train, \n",
    "          epochs=EPOCHS, \n",
    "          batch_size=BATCH_SIZE, \n",
    "          validation_data=(x_test, y_test), \n",
    "          shuffle=True)"
   ]
  },
  {
   "cell_type": "code",
   "execution_count": 16,
   "metadata": {},
   "outputs": [
    {
     "data": {
      "image/png": "[encoded data removed]",
      "text/plain": [
       "<Figure size 432x288 with 1 Axes>"
      ]
     },
     "metadata": {},
     "output_type": "display_data"
    },
    {
     "data": {
      "image/png": "[encoded data removed]",
      "text/plain": [
       "<Figure size 432x288 with 1 Axes>"
      ]
     },
     "metadata": {},
     "output_type": "display_data"
    }
   ],
   "source": [
    "import matplotlib.pyplot as plt\n",
    "\n",
    "\n",
    "train_loss = model.history.history[\"loss\"]\n",
    "valid_loss = model.history.history[\"val_loss\"]\n",
    "\n",
    "train_acc = model.history.history[\"acc\"]\n",
    "valid_acc = model.history.history[\"val_acc\"]\n",
    "\n",
    "plt.plot(range(len(train_loss)), train_loss, label=\"train loss\")\n",
    "plt.plot(range(len(valid_loss)), valid_loss, label=\"valid loss\")\n",
    "plt.legend()\n",
    "plt.title(\"Loss\")\n",
    "plt.show()\n",
    "\n",
    "plt.plot(range(len(train_acc)), train_acc, label=\"train accuracy\")\n",
    "plt.plot(range(len(valid_acc)), valid_acc, label=\"valid accuracy\")\n",
    "plt.legend()\n",
    "plt.title(\"Accuracy\")\n",
    "plt.show()"
   ]
  },
  {
   "cell_type": "code",
   "execution_count": null,
   "metadata": {},
   "outputs": [],
   "source": []
  }
 ],
 "metadata": {
  "kernelspec": {
   "display_name": "Python 3",
   "language": "python",
   "name": "python3"
  },
  "language_info": {
   "codemirror_mode": {
    "name": "ipython",
    "version": 3
   },
   "file_extension": ".py",
   "mimetype": "text/x-python",
   "name": "python",
   "nbconvert_exporter": "python",
   "pygments_lexer": "ipython3",
   "version": "3.6.5"
  }
 },
 "nbformat": 4,
 "nbformat_minor": 2
}
