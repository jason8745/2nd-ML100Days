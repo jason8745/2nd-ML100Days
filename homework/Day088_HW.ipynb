{
 "cells": [
  {
   "cell_type": "markdown",
   "metadata": {},
   "source": [
    "## Work\n",
    "1. 請嘗試寫一個 callback 用來記錄各類別在訓練過程中，對驗證集的 True Positive 與 True Negative"
   ]
  },
  {
   "cell_type": "code",
   "execution_count": 1,
   "metadata": {},
   "outputs": [
    {
     "name": "stderr",
     "output_type": "stream",
     "text": [
      "C:\\Users\\a0970\\Anaconda3\\lib\\site-packages\\h5py\\__init__.py:36: FutureWarning: Conversion of the second argument of issubdtype from `float` to `np.floating` is deprecated. In future, it will be treated as `np.float64 == np.dtype(float).type`.\n",
      "  from ._conv import register_converters as _register_converters\n",
      "Using TensorFlow backend.\n"
     ]
    }
   ],
   "source": [
    "import os\n",
    "import keras\n",
    "\n",
    "# Disable GPU\n",
    "os.environ[\"CUDA_VISIBLE_DEVICES\"] = \"\""
   ]
  },
  {
   "cell_type": "code",
   "execution_count": 2,
   "metadata": {},
   "outputs": [],
   "source": [
    "train, test = keras.datasets.cifar10.load_data()"
   ]
  },
  {
   "cell_type": "code",
   "execution_count": 3,
   "metadata": {},
   "outputs": [],
   "source": [
    "## 資料前處理\n",
    "def preproc_x(x, flatten=True):\n",
    "    x = x / 255.\n",
    "    if flatten:\n",
    "        x = x.reshape((len(x), -1))\n",
    "    return x\n",
    "\n",
    "def preproc_y(y, num_classes=10):\n",
    "    if y.shape[-1] == 1:\n",
    "        y = keras.utils.to_categorical(y, num_classes)\n",
    "    return y    "
   ]
  },
  {
   "cell_type": "code",
   "execution_count": 4,
   "metadata": {},
   "outputs": [],
   "source": [
    "x_train, y_train = train\n",
    "x_test, y_test = test\n",
    "\n",
    "# Preproc the inputs\n",
    "x_train = preproc_x(x_train)\n",
    "x_test = preproc_x(x_test)\n",
    "\n",
    "# Preprc the outputs\n",
    "y_train = preproc_y(y_train)\n",
    "y_test = preproc_y(y_test)"
   ]
  },
  {
   "cell_type": "code",
   "execution_count": 5,
   "metadata": {},
   "outputs": [],
   "source": [
    "from keras.layers import BatchNormalization\n",
    "\n",
    "\"\"\"\n",
    "建立神經網路，並加入 BN layer\n",
    "\"\"\"\n",
    "def build_mlp(input_shape, output_units=10, num_neurons=[512, 256, 128]):\n",
    "    input_layer = keras.layers.Input(input_shape)\n",
    "    \n",
    "    for i, n_units in enumerate(num_neurons):\n",
    "        if i == 0:\n",
    "            x = keras.layers.Dense(units=n_units, \n",
    "                                   activation=\"relu\", \n",
    "                                   name=\"hidden_layer\"+str(i+1))(input_layer)\n",
    "            x = BatchNormalization()(x)\n",
    "        else:\n",
    "            x = keras.layers.Dense(units=n_units, \n",
    "                                   activation=\"relu\", \n",
    "                                   name=\"hidden_layer\"+str(i+1))(x)\n",
    "            x = BatchNormalization()(x)\n",
    "    \n",
    "    out = keras.layers.Dense(units=output_units, activation=\"softmax\", name=\"output\")(x)\n",
    "    \n",
    "    model = keras.models.Model(inputs=[input_layer], outputs=[out])\n",
    "    return model"
   ]
  },
  {
   "cell_type": "code",
   "execution_count": 6,
   "metadata": {},
   "outputs": [],
   "source": [
    "## 超參數設定\n",
    "LEARNING_RATE = 1e-3\n",
    "EPOCHS = 25\n",
    "BATCH_SIZE = 1024\n",
    "MOMENTUM = 0.95"
   ]
  },
  {
   "cell_type": "code",
   "execution_count": 7,
   "metadata": {},
   "outputs": [],
   "source": [
    "# 載入 Callbacks\n",
    "from keras.callbacks import Callback\n",
    "\n",
    "# Record_fp_tp\n",
    "class Record_tp_tn(Callback):\n",
    "    def on_train_begin(self, epoch, logs = {}):\n",
    "        logs = logs or {}\n",
    "        record_items = [\"val_tp\", \"val_tn\"]\n",
    "        for i in record_items:\n",
    "            if i not in self.params['metrics']:\n",
    "                self.params['metrics'].append(i)\n",
    "    \n",
    "    def on_epoch_end(self, epoch, logs = {}, thres=0.5):\n",
    "        logs = logs or {}\n",
    "        y_true = self.validation_data[1].argmax(axis = 1)\n",
    "        y_pred = self.model.predict(self.validation_data[0])\n",
    "        y_pred = (y_pred[:, 1] >= thres) * 1\n",
    "        \n",
    "        val_tp = sum(y_true*y_pred)\n",
    "        val_tn = sum((y_true==0) & (y_pred==0))\n",
    "        \n",
    "        logs[\"val_tp\"] = val_tp\n",
    "        logs[\"val_tn\"] = val_tn\n",
    "        \n",
    "rec_tptn = Record_tp_tn()"
   ]
  },
  {
   "cell_type": "code",
   "execution_count": 9,
   "metadata": {
    "scrolled": true
   },
   "outputs": [
    {
     "name": "stdout",
     "output_type": "stream",
     "text": [
      "_________________________________________________________________\n",
      "Layer (type)                 Output Shape              Param #   \n",
      "=================================================================\n",
      "input_1 (InputLayer)         (None, 3072)              0         \n",
      "_________________________________________________________________\n",
      "hidden_layer1 (Dense)        (None, 512)               1573376   \n",
      "_________________________________________________________________\n",
      "batch_normalization_1 (Batch (None, 512)               2048      \n",
      "_________________________________________________________________\n",
      "hidden_layer2 (Dense)        (None, 256)               131328    \n",
      "_________________________________________________________________\n",
      "batch_normalization_2 (Batch (None, 256)               1024      \n",
      "_________________________________________________________________\n",
      "hidden_layer3 (Dense)        (None, 128)               32896     \n",
      "_________________________________________________________________\n",
      "batch_normalization_3 (Batch (None, 128)               512       \n",
      "_________________________________________________________________\n",
      "output (Dense)               (None, 10)                1290      \n",
      "=================================================================\n",
      "Total params: 1,742,474\n",
      "Trainable params: 1,740,682\n",
      "Non-trainable params: 1,792\n",
      "_________________________________________________________________\n",
      "Train on 50000 samples, validate on 10000 samples\n",
      "Epoch 1/25\n",
      "50000/50000 [==============================] - 8s 160us/step - loss: 2.1524 - acc: 0.2791 - val_loss: 2.0854 - val_acc: 0.3207\n",
      "Epoch 2/25\n",
      "50000/50000 [==============================] - 8s 151us/step - loss: 1.7228 - acc: 0.3954 - val_loss: 1.7826 - val_acc: 0.3845\n",
      "Epoch 3/25\n",
      "50000/50000 [==============================] - 7s 149us/step - loss: 1.6012 - acc: 0.4388 - val_loss: 1.6592 - val_acc: 0.4194\n",
      "Epoch 4/25\n",
      "50000/50000 [==============================] - 7s 141us/step - loss: 1.5322 - acc: 0.4614 - val_loss: 1.6226 - val_acc: 0.4300\n",
      "Epoch 5/25\n",
      "50000/50000 [==============================] - 7s 147us/step - loss: 1.4796 - acc: 0.4815 - val_loss: 1.5749 - val_acc: 0.4460\n",
      "Epoch 6/25\n",
      "50000/50000 [==============================] - 7s 145us/step - loss: 1.4365 - acc: 0.4981 - val_loss: 1.5543 - val_acc: 0.4551\n",
      "Epoch 7/25\n",
      "50000/50000 [==============================] - 9s 177us/step - loss: 1.3980 - acc: 0.5108 - val_loss: 1.5306 - val_acc: 0.4574\n",
      "Epoch 8/25\n",
      "50000/50000 [==============================] - 11s 222us/step - loss: 1.3637 - acc: 0.5220 - val_loss: 1.5159 - val_acc: 0.4675\n",
      "Epoch 9/25\n",
      "50000/50000 [==============================] - 11s 219us/step - loss: 1.3336 - acc: 0.5337 - val_loss: 1.5108 - val_acc: 0.4656\n",
      "Epoch 10/25\n",
      "50000/50000 [==============================] - 11s 221us/step - loss: 1.3044 - acc: 0.5443 - val_loss: 1.4875 - val_acc: 0.4764\n",
      "Epoch 11/25\n",
      "50000/50000 [==============================] - 11s 221us/step - loss: 1.2745 - acc: 0.5561 - val_loss: 1.4732 - val_acc: 0.4833\n",
      "Epoch 12/25\n",
      "50000/50000 [==============================] - 11s 222us/step - loss: 1.2500 - acc: 0.5643 - val_loss: 1.4720 - val_acc: 0.4829\n",
      "Epoch 13/25\n",
      "50000/50000 [==============================] - 11s 222us/step - loss: 1.2245 - acc: 0.5750 - val_loss: 1.4647 - val_acc: 0.4850\n",
      "Epoch 14/25\n",
      "50000/50000 [==============================] - 11s 223us/step - loss: 1.2000 - acc: 0.5835 - val_loss: 1.4682 - val_acc: 0.4843\n",
      "Epoch 15/25\n",
      "50000/50000 [==============================] - 11s 211us/step - loss: 1.1760 - acc: 0.5923 - val_loss: 1.4576 - val_acc: 0.4927\n",
      "Epoch 16/25\n",
      "50000/50000 [==============================] - 8s 158us/step - loss: 1.1522 - acc: 0.6013 - val_loss: 1.4569 - val_acc: 0.4990\n",
      "Epoch 17/25\n",
      "50000/50000 [==============================] - 8s 157us/step - loss: 1.1309 - acc: 0.6102 - val_loss: 1.4510 - val_acc: 0.4961\n",
      "Epoch 18/25\n",
      "50000/50000 [==============================] - 8s 170us/step - loss: 1.1074 - acc: 0.6191 - val_loss: 1.4461 - val_acc: 0.4944\n",
      "Epoch 19/25\n",
      "50000/50000 [==============================] - 9s 189us/step - loss: 1.0855 - acc: 0.6268 - val_loss: 1.4459 - val_acc: 0.4976\n",
      "Epoch 20/25\n",
      "50000/50000 [==============================] - 9s 186us/step - loss: 1.0653 - acc: 0.6332 - val_loss: 1.4590 - val_acc: 0.4939\n",
      "Epoch 21/25\n",
      "50000/50000 [==============================] - 9s 188us/step - loss: 1.0427 - acc: 0.6423 - val_loss: 1.4577 - val_acc: 0.4925\n",
      "Epoch 22/25\n",
      "50000/50000 [==============================] - 9s 172us/step - loss: 1.0209 - acc: 0.6514 - val_loss: 1.4473 - val_acc: 0.4996\n",
      "Epoch 23/25\n",
      "50000/50000 [==============================] - 8s 164us/step - loss: 1.0013 - acc: 0.6592 - val_loss: 1.4468 - val_acc: 0.5041\n",
      "Epoch 24/25\n",
      "50000/50000 [==============================] - 8s 151us/step - loss: 0.9804 - acc: 0.6671 - val_loss: 1.4613 - val_acc: 0.4961\n",
      "Epoch 25/25\n",
      "50000/50000 [==============================] - 7s 149us/step - loss: 0.9597 - acc: 0.6757 - val_loss: 1.4502 - val_acc: 0.5000\n"
     ]
    }
   ],
   "source": [
    "model = build_mlp(input_shape=x_train.shape[1:])\n",
    "model.summary()\n",
    "optimizer = keras.optimizers.SGD(lr=LEARNING_RATE, nesterov=True, momentum=MOMENTUM)\n",
    "model.compile(loss=\"categorical_crossentropy\", metrics=[\"accuracy\"], optimizer=optimizer)\n",
    "\n",
    "\"\"\"Code Here\n",
    "將 callbacks 放入模型訓練流程中\n",
    "\"\"\"\n",
    "model.fit(x_train, y_train, \n",
    "          epochs=EPOCHS, \n",
    "          batch_size=BATCH_SIZE, \n",
    "          validation_data=(x_test, y_test), \n",
    "          shuffle=True,\n",
    "          callbacks=[rec_tptn]\n",
    "         )\n",
    "\n",
    "# Collect results\n",
    "train_loss = model.history.history[\"loss\"]\n",
    "valid_loss = model.history.history[\"val_loss\"]\n",
    "train_acc = model.history.history[\"acc\"]\n",
    "valid_acc = model.history.history[\"val_acc\"]\n",
    "\n",
    "valid_tp = model.history.history['val_tp']\n",
    "valid_tn = model.history.history['val_tn']"
   ]
  },
  {
   "cell_type": "code",
   "execution_count": 10,
   "metadata": {},
   "outputs": [
    {
     "data": {
      "image/png": "[encoded data removed]",
      "text/plain": [
       "<Figure size 432x288 with 1 Axes>"
      ]
     },
     "metadata": {},
     "output_type": "display_data"
    },
    {
     "data": {
      "image/png": "[encoded data removed]",
      "text/plain": [
       "<Figure size 432x288 with 1 Axes>"
      ]
     },
     "metadata": {},
     "output_type": "display_data"
    },
    {
     "data": {
      "image/png": "[encoded data removed]",
      "text/plain": [
       "<Figure size 432x288 with 1 Axes>"
      ]
     },
     "metadata": {},
     "output_type": "display_data"
    }
   ],
   "source": [
    "import matplotlib.pyplot as plt\n",
    "%matplotlib inline\n",
    "\n",
    "plt.plot(range(len(train_loss)), train_loss, label=\"train loss\")\n",
    "plt.plot(range(len(valid_loss)), valid_loss, label=\"valid loss\")\n",
    "plt.legend()\n",
    "plt.title(\"Loss\")\n",
    "plt.show()\n",
    "\n",
    "plt.plot(range(len(train_acc)), train_acc, label=\"train accuracy\")\n",
    "plt.plot(range(len(valid_acc)), valid_acc, label=\"valid accuracy\")\n",
    "plt.legend()\n",
    "plt.title(\"Accuracy\")\n",
    "plt.show()\n",
    "\n",
    "plt.plot(range(len(valid_tp)), valid_tp, label=\"valid tp\", color=\"navy\")\n",
    "plt.plot(range(len(valid_tn)), valid_tn, label=\"valid tn\", color=\"red\")\n",
    "plt.legend()\n",
    "plt.title(\"True positives and True Negatives\")\n",
    "plt.show()\n"
   ]
  },
  {
   "cell_type": "code",
   "execution_count": null,
   "metadata": {},
   "outputs": [],
   "source": []
  }
 ],
 "metadata": {
  "kernelspec": {
   "display_name": "Python 3",
   "language": "python",
   "name": "python3"
  },
  "language_info": {
   "codemirror_mode": {
    "name": "ipython",
    "version": 3
   },
   "file_extension": ".py",
   "mimetype": "text/x-python",
   "name": "python",
   "nbconvert_exporter": "python",
   "pygments_lexer": "ipython3",
   "version": "3.6.5"
  }
 },
 "nbformat": 4,
 "nbformat_minor": 2
}
