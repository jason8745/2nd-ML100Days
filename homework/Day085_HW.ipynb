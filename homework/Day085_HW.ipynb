{
 "cells": [
  {
   "cell_type": "markdown",
   "metadata": {},
   "source": [
    "## Work\n",
    "1. 試改變 monitor \"Validation Accuracy\" 並比較結果\n",
    "2. 調整 earlystop 的等待次數至 10, 25 並比較結果"
   ]
  },
  {
   "cell_type": "code",
   "execution_count": 1,
   "metadata": {},
   "outputs": [
    {
     "name": "stderr",
     "output_type": "stream",
     "text": [
      "C:\\Users\\a0970\\Anaconda3\\lib\\site-packages\\h5py\\__init__.py:36: FutureWarning: Conversion of the second argument of issubdtype from `float` to `np.floating` is deprecated. In future, it will be treated as `np.float64 == np.dtype(float).type`.\n",
      "  from ._conv import register_converters as _register_converters\n",
      "Using TensorFlow backend.\n"
     ]
    }
   ],
   "source": [
    "import os\n",
    "import keras\n",
    "import matplotlib.pyplot as plt\n",
    "%matplotlib inline\n",
    "\n",
    "\n",
    "# Disable GPU\n",
    "os.environ[\"CUDA_VISIBLE_DEVICES\"] = \"\""
   ]
  },
  {
   "cell_type": "code",
   "execution_count": 2,
   "metadata": {},
   "outputs": [],
   "source": [
    "train, test = keras.datasets.cifar10.load_data()"
   ]
  },
  {
   "cell_type": "code",
   "execution_count": 3,
   "metadata": {},
   "outputs": [],
   "source": [
    "## 資料前處理\n",
    "def preproc_x(x, flatten=True):\n",
    "    x = x / 255.\n",
    "    if flatten:\n",
    "        x = x.reshape((len(x), -1))\n",
    "    return x\n",
    "\n",
    "def preproc_y(y, num_classes=10):\n",
    "    if y.shape[-1] == 1:\n",
    "        y = keras.utils.to_categorical(y, num_classes)\n",
    "    return y    "
   ]
  },
  {
   "cell_type": "code",
   "execution_count": 4,
   "metadata": {},
   "outputs": [],
   "source": [
    "x_train, y_train = train\n",
    "x_test, y_test = test\n",
    "\n",
    "# Preproc the inputs\n",
    "x_train = preproc_x(x_train)\n",
    "x_test = preproc_x(x_test)\n",
    "\n",
    "# Preprc the outputs\n",
    "y_train = preproc_y(y_train)\n",
    "y_test = preproc_y(y_test)"
   ]
  },
  {
   "cell_type": "code",
   "execution_count": 5,
   "metadata": {},
   "outputs": [],
   "source": [
    "from keras.layers import BatchNormalization\n",
    "def build_mlp(input_shape, output_units=10, num_neurons=[512, 256, 128]):\n",
    "    input_layer = keras.layers.Input(input_shape)\n",
    "    \n",
    "    for i, n_units in enumerate(num_neurons):\n",
    "        if i == 0:\n",
    "            x = keras.layers.Dense(units=n_units, \n",
    "                                   activation=\"relu\", \n",
    "                                   name=\"hidden_layer\"+str(i+1))(input_layer)\n",
    "            x = BatchNormalization()(x)\n",
    "        else:\n",
    "            x = keras.layers.Dense(units=n_units, \n",
    "                                   activation=\"relu\", \n",
    "                                   name=\"hidden_layer\"+str(i+1))(x)\n",
    "            x = BatchNormalization()(x)\n",
    "    \n",
    "    out = keras.layers.Dense(units=output_units, activation=\"softmax\", name=\"output\")(x)\n",
    "    \n",
    "    model = keras.models.Model(inputs=[input_layer], outputs=[out])\n",
    "    return model"
   ]
  },
  {
   "cell_type": "code",
   "execution_count": 6,
   "metadata": {},
   "outputs": [],
   "source": [
    "## 超參數設定\n",
    "LEARNING_RATE = 1e-3\n",
    "EPOCHS = 20\n",
    "BATCH_SIZE =1024\n",
    "MOMENTUM = 0.95"
   ]
  },
  {
   "cell_type": "code",
   "execution_count": 9,
   "metadata": {},
   "outputs": [],
   "source": [
    "\"\"\"\n",
    "# 載入 Callbacks, 並將 monitor 設定為監控 validation accuracy\n",
    "\"\"\"\n",
    "from keras.callbacks import EarlyStopping\n",
    "\n",
    "earlystop = EarlyStopping(monitor=\"val_acc\", \n",
    "                          patience=10, \n",
    "                          verbose=1\n",
    "                          )"
   ]
  },
  {
   "cell_type": "code",
   "execution_count": 10,
   "metadata": {},
   "outputs": [
    {
     "name": "stdout",
     "output_type": "stream",
     "text": [
      "_________________________________________________________________\n",
      "Layer (type)                 Output Shape              Param #   \n",
      "=================================================================\n",
      "input_2 (InputLayer)         (None, 3072)              0         \n",
      "_________________________________________________________________\n",
      "hidden_layer1 (Dense)        (None, 512)               1573376   \n",
      "_________________________________________________________________\n",
      "batch_normalization_4 (Batch (None, 512)               2048      \n",
      "_________________________________________________________________\n",
      "hidden_layer2 (Dense)        (None, 256)               131328    \n",
      "_________________________________________________________________\n",
      "batch_normalization_5 (Batch (None, 256)               1024      \n",
      "_________________________________________________________________\n",
      "hidden_layer3 (Dense)        (None, 128)               32896     \n",
      "_________________________________________________________________\n",
      "batch_normalization_6 (Batch (None, 128)               512       \n",
      "_________________________________________________________________\n",
      "output (Dense)               (None, 10)                1290      \n",
      "=================================================================\n",
      "Total params: 1,742,474\n",
      "Trainable params: 1,740,682\n",
      "Non-trainable params: 1,792\n",
      "_________________________________________________________________\n",
      "Train on 50000 samples, validate on 10000 samples\n",
      "Epoch 1/20\n",
      "50000/50000 [==============================] - 7s 149us/step - loss: 2.2063 - acc: 0.2705 - val_loss: 2.1381 - val_acc: 0.3239\n",
      "Epoch 2/20\n",
      "50000/50000 [==============================] - 7s 134us/step - loss: 1.7480 - acc: 0.3887 - val_loss: 1.7924 - val_acc: 0.3883\n",
      "Epoch 3/20\n",
      "50000/50000 [==============================] - 7s 133us/step - loss: 1.6227 - acc: 0.4343 - val_loss: 1.6814 - val_acc: 0.4156\n",
      "Epoch 4/20\n",
      "50000/50000 [==============================] - 7s 139us/step - loss: 1.5494 - acc: 0.4589 - val_loss: 1.6426 - val_acc: 0.4242\n",
      "Epoch 5/20\n",
      "50000/50000 [==============================] - 7s 140us/step - loss: 1.4936 - acc: 0.4770 - val_loss: 1.6077 - val_acc: 0.4301\n",
      "Epoch 6/20\n",
      "50000/50000 [==============================] - 7s 139us/step - loss: 1.4477 - acc: 0.4951 - val_loss: 1.5634 - val_acc: 0.4489\n",
      "Epoch 7/20\n",
      "50000/50000 [==============================] - 7s 138us/step - loss: 1.4070 - acc: 0.5084 - val_loss: 1.5565 - val_acc: 0.4507\n",
      "Epoch 8/20\n",
      "50000/50000 [==============================] - 7s 142us/step - loss: 1.3697 - acc: 0.5214 - val_loss: 1.5316 - val_acc: 0.4603\n",
      "Epoch 9/20\n",
      "50000/50000 [==============================] - 7s 143us/step - loss: 1.3376 - acc: 0.5333 - val_loss: 1.5221 - val_acc: 0.4631\n",
      "Epoch 10/20\n",
      "50000/50000 [==============================] - 7s 149us/step - loss: 1.3067 - acc: 0.5448 - val_loss: 1.5120 - val_acc: 0.4694\n",
      "Epoch 11/20\n",
      "50000/50000 [==============================] - 7s 143us/step - loss: 1.2777 - acc: 0.5557 - val_loss: 1.4939 - val_acc: 0.4738\n",
      "Epoch 12/20\n",
      "50000/50000 [==============================] - 7s 138us/step - loss: 1.2493 - acc: 0.5665 - val_loss: 1.4824 - val_acc: 0.4821\n",
      "Epoch 13/20\n",
      "50000/50000 [==============================] - 7s 133us/step - loss: 1.2223 - acc: 0.5770 - val_loss: 1.4874 - val_acc: 0.4775\n",
      "Epoch 14/20\n",
      "50000/50000 [==============================] - 7s 136us/step - loss: 1.1984 - acc: 0.5852 - val_loss: 1.4831 - val_acc: 0.4797\n",
      "Epoch 15/20\n",
      "50000/50000 [==============================] - 7s 139us/step - loss: 1.1739 - acc: 0.5928 - val_loss: 1.4777 - val_acc: 0.4847\n",
      "Epoch 16/20\n",
      "50000/50000 [==============================] - 8s 153us/step - loss: 1.1499 - acc: 0.6042 - val_loss: 1.4710 - val_acc: 0.4859\n",
      "Epoch 17/20\n",
      "50000/50000 [==============================] - 8s 165us/step - loss: 1.1269 - acc: 0.6120 - val_loss: 1.4661 - val_acc: 0.4870\n",
      "Epoch 18/20\n",
      "50000/50000 [==============================] - 8s 167us/step - loss: 1.1029 - acc: 0.6202 - val_loss: 1.4768 - val_acc: 0.4847\n",
      "Epoch 19/20\n",
      "50000/50000 [==============================] - 9s 184us/step - loss: 1.0791 - acc: 0.6293 - val_loss: 1.4626 - val_acc: 0.4976\n",
      "Epoch 20/20\n",
      "50000/50000 [==============================] - 8s 169us/step - loss: 1.0587 - acc: 0.6375 - val_loss: 1.4637 - val_acc: 0.4907\n"
     ]
    }
   ],
   "source": [
    "# 載入 Callbacks\n",
    "\"\"\"Code Here\n",
    "設定 callbacks: Earlystop\n",
    "\"\"\"\n",
    "\n",
    "results = {}\n",
    "\n",
    "model = build_mlp(input_shape=x_train.shape[1:])\n",
    "model.summary()\n",
    "optimizer = keras.optimizers.SGD(lr=LEARNING_RATE, nesterov=True, momentum=MOMENTUM)\n",
    "model.compile(loss=\"categorical_crossentropy\", metrics=[\"accuracy\"], optimizer=optimizer)\n",
    "\n",
    "model.fit(x_train, y_train, \n",
    "          epochs=EPOCHS, \n",
    "          batch_size=BATCH_SIZE, \n",
    "          validation_data=(x_test, y_test), \n",
    "          shuffle=True,\n",
    "          callbacks=[earlystop]\n",
    "         )\n",
    "\n",
    "# Collect results\n",
    "train_loss = model.history.history[\"loss\"]\n",
    "valid_loss = model.history.history[\"val_loss\"]\n",
    "train_acc = model.history.history[\"acc\"]\n",
    "valid_acc = model.history.history[\"val_acc\"]"
   ]
  },
  {
   "cell_type": "code",
   "execution_count": 11,
   "metadata": {},
   "outputs": [
    {
     "data": {
      "image/png": "[encoded data removed]",
      "text/plain": [
       "<Figure size 432x288 with 1 Axes>"
      ]
     },
     "metadata": {},
     "output_type": "display_data"
    },
    {
     "data": {
      "image/png": "[encoded data removed]",
      "text/plain": [
       "<Figure size 432x288 with 1 Axes>"
      ]
     },
     "metadata": {},
     "output_type": "display_data"
    }
   ],
   "source": [
    "import matplotlib.pyplot as plt\n",
    "%matplotlib inline\n",
    "\n",
    "plt.plot(range(len(train_loss)), train_loss, label=\"train loss\")\n",
    "plt.plot(range(len(valid_loss)), valid_loss, label=\"valid loss\")\n",
    "plt.legend()\n",
    "plt.title(\"Loss\")\n",
    "plt.show()\n",
    "\n",
    "plt.plot(range(len(train_acc)), train_acc, label=\"train accuracy\")\n",
    "plt.plot(range(len(valid_acc)), valid_acc, label=\"valid accuracy\")\n",
    "plt.legend()\n",
    "plt.title(\"Accuracy\")\n",
    "plt.show()"
   ]
  },
  {
   "cell_type": "code",
   "execution_count": null,
   "metadata": {},
   "outputs": [],
   "source": []
  }
 ],
 "metadata": {
  "kernelspec": {
   "display_name": "Python 3",
   "language": "python",
   "name": "python3"
  },
  "language_info": {
   "codemirror_mode": {
    "name": "ipython",
    "version": 3
   },
   "file_extension": ".py",
   "mimetype": "text/x-python",
   "name": "python",
   "nbconvert_exporter": "python",
   "pygments_lexer": "ipython3",
   "version": "3.6.5"
  }
 },
 "nbformat": 4,
 "nbformat_minor": 2
}
